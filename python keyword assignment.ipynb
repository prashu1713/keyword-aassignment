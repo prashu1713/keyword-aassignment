{
 "cells": [
  {
   "cell_type": "markdown",
   "id": "08913d6d-062a-42f9-b357-ea00c48a3d0f",
   "metadata": {},
   "source": [
    "1.Explain the significance of Python keywords and provide examples of five keywords?"
   ]
  },
  {
   "cell_type": "markdown",
   "id": "6523f20e-bf47-412e-86bf-fc32836fc417",
   "metadata": {},
   "source": [
    "Python keywords are most important tool in python as it facilitates smooth operations. Python keywords store certain values for a word which are applicable universally so it is time saving i.e we didn't have to define or assign values everytime while we are coding.\n",
    "Examples of five keywords are:-\n",
    "int(integers)\n",
    "print(Print)\n",
    "If\n",
    "Else\n",
    "str(string)\n"
   ]
  },
  {
   "cell_type": "markdown",
   "id": "6810dd26-7df7-4af1-9896-f83b4aa3b0b4",
   "metadata": {},
   "source": [
    "2.Describe the rules for defining identifiers in Python and provide an example?"
   ]
  },
  {
   "cell_type": "markdown",
   "id": "5eba78d0-6478-4f27-95e6-d44bb8a776fe",
   "metadata": {},
   "source": [
    "Rules for defining identifiers in python are:-\n",
    "It cannot start with a digit and also cannot contains only digits.\n",
    "Avoid using keywords as identifiers\n",
    "It can have letters in small cases (a,b,c), upper case (A,B,C), digits(1,2,3) and underscore(_)\n",
    "Identifiers cannot have space in between, instead use underscore (_)\n",
    "Can start with underscore (_)\n",
    "Identifiers are case sensitive i.e abc is different identifier from ABC\n"
   ]
  },
  {
   "cell_type": "markdown",
   "id": "f665f93d-cf98-4588-b288-913fe36dded6",
   "metadata": {},
   "source": [
    "3.What are comments in Python, and why are they useful Provide an example "
   ]
  },
  {
   "cell_type": "markdown",
   "id": "15373e5d-533b-4ecf-ae9b-0c55af28ec49",
   "metadata": {},
   "source": [
    "Comments in python are written with a prefix of (#) comment facilitate us to mention all the relevant information about the code in that column which will not affect in processing the code.\n",
    "It is useful as:-\n",
    "Enhance code readability\n",
    "Ease in understanding code when studied after some times\n",
    "Understandable to others.\n",
    "All relevant information for code is written so that fellow developers can understand easily\n"
   ]
  },
  {
   "cell_type": "code",
   "execution_count": 2,
   "id": "5e59f8de-b2a1-46aa-9245-a24486d83d4f",
   "metadata": {},
   "outputs": [
    {
     "data": {
      "text/plain": [
       "10"
      ]
     },
     "execution_count": 2,
     "metadata": {},
     "output_type": "execute_result"
    }
   ],
   "source": [
    "#example\n",
    "a=2\n",
    "b=5\n",
    "a*b #product of a,b"
   ]
  },
  {
   "cell_type": "markdown",
   "id": "d35a7903-d47b-4003-a1eb-69cf7315d641",
   "metadata": {},
   "source": [
    "4.Why is proper indentation important in Python"
   ]
  },
  {
   "cell_type": "markdown",
   "id": "4e4d0405-94eb-4354-b33a-fdd30bdafe58",
   "metadata": {},
   "source": [
    "Proper indentation is important in Python as it gives the cue to the interpreter to understand the structure of the code also it prevent in making the indentation errors while writing the code.  Indentation breaks up long block of code so that it is easy to read, statement with same indentation levels are belong to same block. Proper indentation helps the interpreters to access the code easily. Indentation define code block in python these code blocks helps to navigate the code mare easily. It also prevents syntax errors."
   ]
  },
  {
   "cell_type": "markdown",
   "id": "de1f618f-3aee-4a1c-8552-d94f55e6b0bd",
   "metadata": {},
   "source": [
    "5.What happens if indentation is incorrect in Python "
   ]
  },
  {
   "cell_type": "markdown",
   "id": "c0cb6b93-2aef-4c93-8787-5d83ed115e28",
   "metadata": {},
   "source": [
    "If incorrect indentation is used while coding in python then it will throw an error which might be an indentation error or syntax error, incorrect indentation will leads to mismatch between the assign block for code and the desired block of code. It will leads to improper division of logical blocks of codes which will leads to difficulty for interpreters in understanding the code. Python through indentation manages the whitespace in codes by incorrect indentation the management of white space in codes will get affected."
   ]
  },
  {
   "cell_type": "markdown",
   "id": "01e374c1-4556-4a03-907e-2874f33eef23",
   "metadata": {},
   "source": [
    "6.Differentiate between expression and statement in Python with examples"
   ]
  },
  {
   "cell_type": "markdown",
   "id": "668b5596-c3d3-41b3-a519-63afd831864f",
   "metadata": {},
   "source": [
    "Expression\n",
    "It is used to produced a value after being interpreted by interpreters\n",
    "It is used to evaluate a value\n",
    "It doesn't allow any change in variable\n",
    "Expression can’t be a statement\n",
    "Example: a = 22+664\n",
    "\n",
    "Statement\n",
    "It is used to create a variable\n",
    "Perform action or define code structure\n",
    "The execution of variable might change the variable\n",
    "It can be an expression\n",
    "Example: a = 2\n",
    "\n"
   ]
  },
  {
   "cell_type": "code",
   "execution_count": null,
   "id": "73bac86f-3baa-4726-adfd-e2b2c6137bc3",
   "metadata": {},
   "outputs": [],
   "source": []
  }
 ],
 "metadata": {
  "kernelspec": {
   "display_name": "Python 3 (ipykernel)",
   "language": "python",
   "name": "python3"
  },
  "language_info": {
   "codemirror_mode": {
    "name": "ipython",
    "version": 3
   },
   "file_extension": ".py",
   "mimetype": "text/x-python",
   "name": "python",
   "nbconvert_exporter": "python",
   "pygments_lexer": "ipython3",
   "version": "3.10.8"
  }
 },
 "nbformat": 4,
 "nbformat_minor": 5
}
